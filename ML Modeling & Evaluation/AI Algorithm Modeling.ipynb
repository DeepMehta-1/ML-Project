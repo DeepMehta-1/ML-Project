{
 "cells": [
  {
   "cell_type": "code",
   "execution_count": null,
   "id": "1bd894e5",
   "metadata": {},
   "outputs": [],
   "source": [
    "import pandas as pd\n",
    "import numpy as np\n",
    "import seaborn as sns\n",
    "import matplotlib.pyplot as plt\n",
    "%matplotlib inline\n",
    "sns.set()"
   ]
  },
  {
   "cell_type": "code",
   "execution_count": null,
   "id": "3afa2d0d",
   "metadata": {},
   "outputs": [],
   "source": []
  },
  {
   "cell_type": "code",
   "execution_count": null,
   "id": "27b4b675",
   "metadata": {},
   "outputs": [],
   "source": [
    "df=pd.read_csv(\"human_face_dataset.csv\")\n",
    "df.head()"
   ]
  },
  {
   "cell_type": "code",
   "execution_count": null,
   "id": "80c1e340",
   "metadata": {},
   "outputs": [],
   "source": [
    "df.shape"
   ]
  },
  {
   "cell_type": "code",
   "execution_count": null,
   "id": "5e6cfd9c",
   "metadata": {},
   "outputs": [],
   "source": [
    "df.info()"
   ]
  },
  {
   "cell_type": "code",
   "execution_count": null,
   "id": "dddb19a9",
   "metadata": {},
   "outputs": [],
   "source": [
    "df.describe()"
   ]
  },
  {
   "cell_type": "code",
   "execution_count": null,
   "id": "cc862d0d",
   "metadata": {},
   "outputs": [],
   "source": [
    "df.columns"
   ]
  },
  {
   "cell_type": "code",
   "execution_count": null,
   "id": "f861e552",
   "metadata": {},
   "outputs": [],
   "source": [
    "df.isnull().sum()"
   ]
  },
  {
   "cell_type": "code",
   "execution_count": null,
   "id": "90a21268",
   "metadata": {},
   "outputs": [],
   "source": [
    "from sklearn.model_selection import train_test_split\n",
    "\n",
    "#### Training and Testing data:\n",
    "\n",
    "df_train,df_test = train_test_split(df,train_size=0.7,random_state=50)\n",
    "\n",
    "y_train = df_train.pop('emotion')\n",
    "X_train = df_train\n",
    "\n",
    "y_test = df_test.pop('emotion')\n",
    "X_test = df_test\n",
    "\n",
    "print(X_train)\n",
    "print(y_train)"
   ]
  },
  {
   "cell_type": "code",
   "execution_count": null,
   "id": "850d2ea3",
   "metadata": {},
   "outputs": [],
   "source": [
    "import missingno as msno\n",
    "msno.matrix(df)"
   ]
  },
  {
   "cell_type": "code",
   "execution_count": null,
   "id": "0e1813d4",
   "metadata": {},
   "outputs": [],
   "source": [
    "duplicated = df.duplicated().sum()\n",
    "if duplicated:\n",
    "    print(\"Duplicate rows in Dataset are {}\".format(duplicated))\n",
    "else:\n",
    "    print(\"Dataset contains no duplicate values\")\n",
    "duplicated = df[df.duplicated(keep=False)]\n",
    "duplicated.head()"
   ]
  },
  {
   "cell_type": "code",
   "execution_count": null,
   "id": "d23d931c",
   "metadata": {},
   "outputs": [],
   "source": [
    "df['emotion'].unique()\n",
    "df.emotion.value_counts()\n",
    "df[df['emotion'] == 4]\n",
    "\n",
    "df.loc[df['emotion'] == 4, 'emotion'] = np.NaN\n",
    "df['emotion'].unique()\n",
    "\n",
    "df.pixels.value_counts()\n",
    "df[df['pixels'] == 0]\n",
    "\n",
    "df.loc[df['pixels'] == 0, 'pixels'] = np.NaN\n",
    "df['pixels'].unique()\n",
    "\n",
    "df = df.fillna(df.median()) # Replacing with Mean\n"
   ]
  },
  {
   "cell_type": "code",
   "execution_count": null,
   "id": "fca5fba7",
   "metadata": {},
   "outputs": [],
   "source": [
    "df.boxplot()"
   ]
  },
  {
   "cell_type": "code",
   "execution_count": null,
   "id": "bc8f541e",
   "metadata": {},
   "outputs": [],
   "source": [
    "#bargrapgh_eda_dist\n",
    "fig=plt.figure(figsize=(5,5))\n",
    "ax=fig.gca()\n",
    "df.hist(ax=ax)\n",
    "plt.show()"
   ]
  },
  {
   "cell_type": "code",
   "execution_count": null,
   "id": "a974edb1",
   "metadata": {},
   "outputs": [],
   "source": [
    "sns.heatmap(df.isnull(), cbar=False, yticklabels=False, cmap='viridis')"
   ]
  },
  {
   "cell_type": "code",
   "execution_count": null,
   "id": "5cb0eeb3",
   "metadata": {},
   "outputs": [],
   "source": [
    "plt.figure(figsize=(8,4))\n",
    "sns.heatmap(df.corr(),cmap='Greens',annot=True)"
   ]
  },
  {
   "cell_type": "code",
   "execution_count": null,
   "id": "31dd4c35",
   "metadata": {},
   "outputs": [],
   "source": [
    "df[\"Usage\"].value_counts()"
   ]
  },
  {
   "cell_type": "code",
   "execution_count": null,
   "id": "312f8beb",
   "metadata": {},
   "outputs": [],
   "source": [
    "import keras\n",
    "from keras import layers\n",
    "from keras import models\n",
    "from keras import optimizers\n",
    "\n",
    "modelN = models.Sequential()\n",
    "modelN.add(layers.Conv2D(32, (3, 3), padding='same', activation='relu',\n",
    "                        input_shape=(48, 48, 1)))\n",
    "modelN.add(layers.Conv2D(32, (3, 3), padding='same', activation='relu'))\n",
    "modelN.add(layers.Conv2D(32, (3, 3), padding='same', activation='relu'))\n",
    "modelN.add(layers.MaxPooling2D(pool_size=(2, 2)))\n",
    "\n",
    "modelN.add(layers.Conv2D(64, (3, 3), padding='same', activation='relu'))\n",
    "modelN.add(layers.Conv2D(64, (3, 3), padding='same', activation='relu'))\n",
    "modelN.add(layers.Conv2D(64, (3, 3), padding='same', activation='relu'))\n",
    "modelN.add(layers.MaxPooling2D(pool_size=(2, 2)))\n",
    "\n",
    "modelN.add(layers.Conv2D(128, (3, 3), padding='same', activation='relu'))\n",
    "modelN.add(layers.Conv2D(128, (3, 3), padding='same', activation='relu'))\n",
    "modelN.add(layers.Conv2D(128, (3, 3), padding='same', activation='relu'))\n",
    "modelN.add(layers.MaxPooling2D(pool_size=(2, 2)))\n",
    "\n",
    "modelN.add(layers.Flatten())  # this converts our 3D feature maps to 1D feature vectors\n",
    "modelN.add(layers.Dense(64, activation='relu'))\n",
    "modelN.add(layers.Dense(64, activation='relu'))\n",
    "modelN.add(layers.Dense(6, activation='softmax'))\n",
    "\n",
    "# optimizer:\n",
    "modelN.compile(loss='categorical_crossentropy', optimizer='adam', metrics=['accuracy'])\n",
    "print ('Training....')\n",
    "\n",
    "\n",
    "#fit\n",
    "nb_epoch = 32\n",
    "batch_size = 128\n",
    "\n",
    "modelF = modelN.fit(X_train, y_train, nb_epoch=nb_epoch, batch_size=batch_size,\n",
    "          validation_data=(X_val, y_val), shuffle=True, verbose=1)"
   ]
  },
  {
   "cell_type": "markdown",
   "id": "9025bd64",
   "metadata": {},
   "source": [
    "### Modelling ###"
   ]
  },
  {
   "cell_type": "code",
   "execution_count": 15,
   "id": "5d963e23",
   "metadata": {},
   "outputs": [],
   "source": [
    "from keras.utils.np_utils import to_categorical\n",
    "import pandas as pd\n",
    "import numpy as np\n",
    "import random\n",
    "import sys\n",
    "import warnings \n",
    "warnings.filterwarnings('ignore')\n",
    "\n",
    "import matplotlib.pyplot as plt\n",
    "%matplotlib inline\n",
    "\n",
    "import brewer2mpl\n",
    "\n",
    "def emotion_count(y_train, classes):\n",
    "    \"\"\"\n",
    "    The function re-classify picture with disgust label into angry label\n",
    "    \"\"\"\n",
    "    emo_classcount = {}\n",
    "    print ('Disgust classified as Angry')\n",
    "    y_train.loc[y_train == 1] = 0\n",
    "    classes.remove('Disgust')\n",
    "    for new_num, _class in enumerate(classes):\n",
    "        y_train.loc[(y_train == emotion[_class])] = new_num\n",
    "        class_count = sum(y_train == (new_num))\n",
    "        emo_classcount[_class] = (new_num, class_count)\n",
    "    return y_train.values, emo_classcount\n",
    "\n"
   ]
  },
  {
   "cell_type": "code",
   "execution_count": 16,
   "id": "e1f11381",
   "metadata": {},
   "outputs": [],
   "source": [
    "def load_data(sample_split=0.3, usage='Training',classes=['Angry','Happy'], filepath='human_face_dataset.csv'):\n",
    "    \"\"\"\n",
    "    The function load provided CSV dataset and further reshape, rescale the data for feeding\n",
    "    \"\"\"\n",
    "    df = pd.read_csv(filepath)\n",
    "    df = df[df.Usage == usage]\n",
    "    frames = []\n",
    "    classes.append('Disgust')\n",
    "    for _class in classes:\n",
    "        class_df = df[df['emotion'] == emotion[_class]]\n",
    "        frames.append(class_df)\n",
    "    data = pd.concat(frames, axis=0)\n",
    "    rows = random.sample(list(data.index), int(len(data)*sample_split))\n",
    "    data = data.loc[rows]\n",
    "    x = list(data[\"pixels\"])\n",
    "    X = []\n",
    "    for i in range(len(x)):\n",
    "        each_pixel = [int(num) for num in x[i].split()]\n",
    "        X.append(each_pixel)\n",
    "    ## reshape into 48*48*1 and rescale\n",
    "    X = np.array(X)\n",
    "    X = X.reshape(X.shape[0], 48, 48,1)\n",
    "    X = X.astype(\"float32\")\n",
    "    X /= 255\n",
    "    \n",
    "    y_train, new_dict = emotion_count(data.emotion, classes)\n",
    "    y_train = to_categorical(y_train)\n",
    "    return X, y_train\n"
   ]
  },
  {
   "cell_type": "code",
   "execution_count": 17,
   "id": "ff1b7625",
   "metadata": {},
   "outputs": [
    {
     "name": "stdout",
     "output_type": "stream",
     "text": [
      "Disgust classified as Angry\n",
      "Disgust classified as Angry\n",
      "Disgust classified as Angry\n"
     ]
    }
   ],
   "source": [
    "## All three datasets are well loaded accordingly\n",
    "emotion = {'Angry': 0, 'Disgust': 1, 'Fear': 2, 'Happy': 3,\n",
    "           'Sad': 4, 'Surprise': 5, 'Neutral': 6}\n",
    "emo     = ['Angry', 'Fear', 'Happy',\n",
    "           'Sad', 'Surprise', 'Neutral']\n",
    "\n",
    "X_test, y_test = load_data(sample_split=1.0,classes=emo,\n",
    "usage='PrivateTest')\n",
    "\n",
    "X_train, y_train = load_data(sample_split=1.0,classes=emo,\n",
    "usage= 'Training')\n",
    "\n",
    "X_val,y_val = load_data(sample_split=1.0,classes=emo,\n",
    "usage= 'PublicTest')"
   ]
  },
  {
   "cell_type": "code",
   "execution_count": 18,
   "id": "6a63fbd1",
   "metadata": {},
   "outputs": [
    {
     "name": "stdout",
     "output_type": "stream",
     "text": [
      "(28709, 48, 48, 1)\n",
      "(28709, 6)\n",
      "(3589, 48, 48, 1)\n",
      "(3589, 6)\n",
      "(3589, 48, 48, 1)\n",
      "(3589, 6)\n"
     ]
    }
   ],
   "source": [
    "## The shape of loaded data is under examination\n",
    "print(X_train.shape)\n",
    "print(y_train.shape)\n",
    "print(X_test.shape)\n",
    "print(y_test.shape)\n",
    "print(X_val.shape)\n",
    "print(y_val.shape)"
   ]
  },
  {
   "cell_type": "code",
   "execution_count": 19,
   "id": "9eb33b12",
   "metadata": {},
   "outputs": [
    {
     "name": "stdout",
     "output_type": "stream",
     "text": [
      "Private test set\n",
      "<zip object at 0x0000021A24993E40>\n"
     ]
    }
   ],
   "source": [
    "def save_data(X_test, y_test, fname=''):\n",
    "    \"\"\"\n",
    "    The function stores loaded data into numpy form for further processing\n",
    "    \"\"\"\n",
    "    np.save( 'X_test' + fname, X_test)\n",
    "    np.save( 'y_test' + fname, y_test)\n",
    "save_data(X_test, y_test,\"_privatetest6_100pct\")\n",
    "X_fname = 'X_test_privatetest6_100pct.npy'\n",
    "y_fname = 'y_test_privatetest6_100pct.npy'\n",
    "X = np.load(X_fname)\n",
    "y = np.load(y_fname)\n",
    "print ('Private test set')\n",
    "y_labels = [np.argmax(lst) for lst in y]\n",
    "counts = np.bincount(y_labels)\n",
    "labels = ['angry', 'fear', 'happy', 'sad', 'surprise', 'neutral']\n",
    "print (zip(labels, counts))"
   ]
  },
  {
   "cell_type": "code",
   "execution_count": 20,
   "id": "baab5e32",
   "metadata": {},
   "outputs": [],
   "source": [
    "y_train = y_train \n",
    "y_public = y_val \n",
    "y_private = y_test \n",
    "y_train_labels  = [np.argmax(lst) for lst in y_train]\n",
    "y_public_labels = [np.argmax(lst) for lst in y_public]\n",
    "y_private_labels = [np.argmax(lst) for lst in y_private]"
   ]
  },
  {
   "cell_type": "code",
   "execution_count": 21,
   "id": "947a30e1",
   "metadata": {},
   "outputs": [
    {
     "name": "stdout",
     "output_type": "stream",
     "text": [
      "Training....\n",
      "898/898 [==============================] - 510s 567ms/step - loss: 1.7630 - accuracy: 0.2510 - val_loss: 1.7638 - val_accuracy: 0.2494\n"
     ]
    }
   ],
   "source": [
    "# Final Model Architecture:\n",
    "from keras import layers\n",
    "from keras import models\n",
    "from keras import optimizers\n",
    "\n",
    "modelN = models.Sequential()\n",
    "modelN.add(layers.Conv2D(32, (3, 3), padding='same', activation='relu',\n",
    "                        input_shape=(48, 48, 1)))\n",
    "modelN.add(layers.Conv2D(32, (3, 3), padding='same', activation='relu'))\n",
    "modelN.add(layers.Conv2D(32, (3, 3), padding='same', activation='relu'))\n",
    "modelN.add(layers.MaxPooling2D(pool_size=(2, 2)))\n",
    "\n",
    "modelN.add(layers.Conv2D(64, (3, 3), padding='same', activation='relu'))\n",
    "modelN.add(layers.Conv2D(64, (3, 3), padding='same', activation='relu'))\n",
    "modelN.add(layers.Conv2D(64, (3, 3), padding='same', activation='relu'))\n",
    "modelN.add(layers.MaxPooling2D(pool_size=(2, 2)))\n",
    "\n",
    "modelN.add(layers.Conv2D(128, (3, 3), padding='same', activation='relu'))\n",
    "modelN.add(layers.Conv2D(128, (3, 3), padding='same', activation='relu'))\n",
    "modelN.add(layers.Conv2D(128, (3, 3), padding='same', activation='relu'))\n",
    "modelN.add(layers.MaxPooling2D(pool_size=(2, 2)))\n",
    "\n",
    "modelN.add(layers.Flatten())  # this converts our 3D feature maps to 1D feature vectors\n",
    "modelN.add(layers.Dense(64, activation='relu'))\n",
    "modelN.add(layers.Dense(64, activation='relu'))\n",
    "modelN.add(layers.Dense(6, activation='softmax'))\n",
    "\n",
    "# optimizer:\n",
    "modelN.compile(loss='categorical_crossentropy', optimizer='adam', metrics=['accuracy'])\n",
    "print ('Training....')\n",
    "\n",
    "modelF = modelN.fit(X_train, y_train,\n",
    "          validation_data=(X_val, y_val), shuffle=True, verbose=1)"
   ]
  },
  {
   "cell_type": "code",
   "execution_count": null,
   "id": "418e0495",
   "metadata": {},
   "outputs": [],
   "source": []
  }
 ],
 "metadata": {
  "kernelspec": {
   "display_name": "Python 3",
   "language": "python",
   "name": "python3"
  },
  "language_info": {
   "codemirror_mode": {
    "name": "ipython",
    "version": 3
   },
   "file_extension": ".py",
   "mimetype": "text/x-python",
   "name": "python",
   "nbconvert_exporter": "python",
   "pygments_lexer": "ipython3",
   "version": "3.8.8"
  }
 },
 "nbformat": 4,
 "nbformat_minor": 5
}
